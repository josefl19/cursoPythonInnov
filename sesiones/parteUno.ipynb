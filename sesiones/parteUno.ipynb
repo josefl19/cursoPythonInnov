{
  "nbformat": 4,
  "nbformat_minor": 0,
  "metadata": {
    "colab": {
      "name": "parteUno.ipynb",
      "provenance": [],
      "collapsed_sections": [],
      "toc_visible": true,
      "authorship_tag": "ABX9TyMxbZ3tZCXRXok7UFusQSmz",
      "include_colab_link": true
    },
    "kernelspec": {
      "name": "python3",
      "display_name": "Python 3"
    }
  },
  "cells": [
    {
      "cell_type": "markdown",
      "metadata": {
        "id": "view-in-github",
        "colab_type": "text"
      },
      "source": [
        "<a href=\"https://colab.research.google.com/github/josefl19/cursoPythonInnov/blob/main/sesiones/parteUno.ipynb\" target=\"_parent\"><img src=\"https://colab.research.google.com/assets/colab-badge.svg\" alt=\"Open In Colab\"/></a>"
      ]
    },
    {
      "cell_type": "markdown",
      "metadata": {
        "id": "fHcxW4wHiLPI"
      },
      "source": [
        "# Curso Introductorio de Python de Innovacción 2021\r\n",
        "\r\n",
        "Curso de introducción a la programación con Python para la comunidad de **Innovacción Virtual** impartido por **Rodolfo Ferro**.\r\n",
        "\r\n",
        "##### **Ejemplo Redes:**\r\n",
        "- GitHub: [Github](https://github.com/josefl19), josefl19\r\n",
        "- Twitter: [Twitter](https://twitter.com/jose_fujarte), @jose_fujarte\r\n"
      ]
    },
    {
      "cell_type": "markdown",
      "metadata": {
        "id": "Ih_snw0hkgJB"
      },
      "source": [
        "## I/O - ¡Hola mundo!\r\n",
        "\r\n",
        "`input()` y `print()` son las funciones de entrada y salida (respectivamente) de información en Python. \r\n",
        "\r\n",
        "`input()` tiene como argumento una cadena de texto que da las instrucciones que se deseas desplegar y lo que retorna (la respuesta) siempre es una cadena de texto; mientras que `print()` tiene como argumentos cadenas de texto o variables que se desean desplegar.\r\n",
        "\r\n",
        "#### Ejemplo:\r\n",
        "\r\n",
        "```python\r\n",
        "nombre = input(\"Introduce tu nombre: \")\r\n",
        "print(f\"Mucho gusto, {nombre}\")\r\n",
        "```\r\n",
        "\r\n",
        "Formatted string literals (también llamados f-strings para abreviar) le permiten incluir el valor de las expresiones de Python dentro de una cadena prefijando la cadena con `f` o `F` y escribiendo expresiones como `{expresion}`."
      ]
    },
    {
      "cell_type": "code",
      "metadata": {
        "colab": {
          "base_uri": "https://localhost:8080/"
        },
        "id": "gfm2a6dmkgkh",
        "outputId": "334b37ea-ecd8-4906-8b14-788bfaee325d"
      },
      "source": [
        "print(\"Hola mundo!\")"
      ],
      "execution_count": 1,
      "outputs": [
        {
          "output_type": "stream",
          "text": [
            "Hola mundo!\n"
          ],
          "name": "stdout"
        }
      ]
    },
    {
      "cell_type": "code",
      "metadata": {
        "colab": {
          "base_uri": "https://localhost:8080/"
        },
        "id": "Dq9u9KYhlAlD",
        "outputId": "b8982073-fba6-4ae4-d163-acb700eb7f25"
      },
      "source": [
        "nombre=input(\"Dime tu nombre: \")\r\n",
        "print(f\"Bienvenido, {nombre}\")"
      ],
      "execution_count": 2,
      "outputs": [
        {
          "output_type": "stream",
          "text": [
            "Dime tu nombre: José\n",
            "Bienvenido, José\n"
          ],
          "name": "stdout"
        }
      ]
    },
    {
      "cell_type": "markdown",
      "metadata": {
        "id": "hwYdJFiEuylK"
      },
      "source": [
        "## Variables, tipos de datos y conversión\r\n",
        "\r\n",
        "Podemos pensar que una variable es como un contenedor de información. Python puede albergar distintos tipos de datos, como valores numéricos, booleanos y cadenas de texto. Al ser Python de tipado dinámico, no hace falta declarar el tipo de variable, sino que sólo basta con definir sus valores.\r\n",
        "\r\n",
        "#### Ejemplo:\r\n",
        "\r\n",
        "```python\r\n",
        "name = \"Rodolfo\"\r\n",
        "age = 27\r\n",
        "pi = 3.1416\r\n",
        "age = float(age)\r\n",
        "\r\n",
        "print(name, age)\r\n",
        "print(type(name), type(age))\r\n",
        "```"
      ]
    },
    {
      "cell_type": "code",
      "metadata": {
        "colab": {
          "base_uri": "https://localhost:8080/"
        },
        "id": "5wK-L3r3vr8s",
        "outputId": "0d0d23f2-ca27-450f-b04b-99aa398d10e2"
      },
      "source": [
        "variable1 = \"Cadena de texto!\"\r\n",
        "print(variable1)"
      ],
      "execution_count": 4,
      "outputs": [
        {
          "output_type": "stream",
          "text": [
            "Cadena de texto!\n"
          ],
          "name": "stdout"
        }
      ]
    },
    {
      "cell_type": "code",
      "metadata": {
        "colab": {
          "base_uri": "https://localhost:8080/"
        },
        "id": "B_6bL88Lv3tB",
        "outputId": "9675156e-39f3-4d08-bc1d-3763543b83d1"
      },
      "source": [
        "edad = 27\r\n",
        "print(f\"Edad: {edad}\")"
      ],
      "execution_count": 5,
      "outputs": [
        {
          "output_type": "stream",
          "text": [
            "Edad: 27\n"
          ],
          "name": "stdout"
        }
      ]
    },
    {
      "cell_type": "code",
      "metadata": {
        "colab": {
          "base_uri": "https://localhost:8080/"
        },
        "id": "huWtp5hyzHmX",
        "outputId": "40705850-4c0e-4635-8a36-ad200a6cc494"
      },
      "source": [
        "pi = 3.14159265358979\r\n",
        "print(f\"El numero pi: {pi}\")"
      ],
      "execution_count": 6,
      "outputs": [
        {
          "output_type": "stream",
          "text": [
            "El numero pi: 3.14159265358979\n"
          ],
          "name": "stdout"
        }
      ]
    },
    {
      "cell_type": "code",
      "metadata": {
        "colab": {
          "base_uri": "https://localhost:8080/"
        },
        "id": "g86yuAJZzYQ3",
        "outputId": "205a9726-165f-4248-9c14-5fa894b02e45"
      },
      "source": [
        "print(type(edad)) # Integer - Número entero\r\n",
        "print(type(pi)) # Float - Número decimal\r\n",
        "print(type(variable1)) # String - Cadena de texto"
      ],
      "execution_count": 7,
      "outputs": [
        {
          "output_type": "stream",
          "text": [
            "<class 'int'>\n",
            "<class 'float'>\n",
            "<class 'str'>\n"
          ],
          "name": "stdout"
        }
      ]
    },
    {
      "cell_type": "markdown",
      "metadata": {
        "id": "uLFEaP0V0I8N"
      },
      "source": [
        "## Operaciones básicas\r\n",
        "\r\n",
        "\r\n",
        "En esencia hay tres tipos de operaciones:\r\n",
        "- **Operaciones aritméticas.** Operan a nivel matemático-aritmético sobre los valores de las variables (`+`, `-`, `*`, `/`, `//`, `%`, `**`).\r\n",
        "- **Operaciones de comparación.** Operan a nivel matemático-de-comaración sobre los valores de las variables (`<`, `>`, `<=`, `>=`, `==`, `!=`).\r\n",
        "- **Operaciones lógicas.** Operan a nivel matemático-lógico sobre los valores de las variables (`and`, `or`, `not`)."
      ]
    },
    {
      "cell_type": "code",
      "metadata": {
        "id": "g5ntgQsE0s4U",
        "outputId": "31763078-38ee-45a4-94b8-290314f659d2",
        "colab": {
          "base_uri": "https://localhost:8080/"
        }
      },
      "source": [
        "print(edad)"
      ],
      "execution_count": 8,
      "outputs": [
        {
          "output_type": "stream",
          "text": [
            "27\n"
          ],
          "name": "stdout"
        }
      ]
    },
    {
      "cell_type": "code",
      "metadata": {
        "id": "E-NOE76R0wGC",
        "outputId": "86519ab0-bbd9-47ca-eece-7980b61f49c3",
        "colab": {
          "base_uri": "https://localhost:8080/"
        }
      },
      "source": [
        "print(edad + 50)\r\n",
        "print(edad - 10)\r\n",
        "print(edad / 2)\r\n",
        "print(edad * 3)"
      ],
      "execution_count": 9,
      "outputs": [
        {
          "output_type": "stream",
          "text": [
            "77\n",
            "17\n",
            "13.5\n",
            "81\n"
          ],
          "name": "stdout"
        }
      ]
    },
    {
      "cell_type": "code",
      "metadata": {
        "id": "0M3nYO8m1Ba8",
        "outputId": "e346eed9-fd53-4d79-fbb0-1f467baef167",
        "colab": {
          "base_uri": "https://localhost:8080/"
        }
      },
      "source": [
        "print(edad / 2)\r\n",
        "print(edad // 2) # Regresa el cociente.\r\n",
        "print(edad % 2) #Regresa el residuo.\r\n",
        "\r\n",
        "#   __13__ #Cociente\r\n",
        "# 2 | 27\r\n",
        "#     07\r\n",
        "#      1  #Residuo.\r\n",
        "\r\n",
        "print(3 ** 3) # 3 * 3 * 3\r\n",
        "print(5 ** 2) # 5 * 5\r\n",
        "\r\n",
        "# Leyes de los exponentes\r\n",
        "#  __\r\n",
        "# √ 5 = (5)^(1/2)\r\n",
        "# 3^√5 = (5)^(1/3)\r\n",
        "# \r\n",
        "\r\n",
        "print(5 ** 0.5) #Raiz cuadrada\r\n",
        "print(81 ** 0.5) #Raiz cuadrada\r\n",
        "print(27 ** 0.333333333333333333) # Raiz cíbica, entre más decimales más proximo el resultado\r\n",
        "print(27 ** 0.33333333) # Raiz cíbica, entre más decimales más proximo el resultado"
      ],
      "execution_count": 17,
      "outputs": [
        {
          "output_type": "stream",
          "text": [
            "13.5\n",
            "13\n",
            "1\n",
            "27\n",
            "25\n",
            "2.23606797749979\n",
            "9.0\n",
            "3.0\n",
            "2.9999999670416315\n"
          ],
          "name": "stdout"
        }
      ]
    },
    {
      "cell_type": "markdown",
      "metadata": {
        "id": "NRUAuSg43vQi"
      },
      "source": [
        "## Condicionales (pt. I)\r\n",
        "\r\n",
        "Los condicionales los utilizaremos para validar si se cumple una o más condiciones para ejecutar cierto bloque de código, en esencia nos ayuda a tomar decisiones sobre el flujo de nuestro código.\r\n",
        "\r\n",
        "#### Sintaxis: \r\n",
        "\r\n",
        "```python\r\n",
        "if condition:\r\n",
        "    # Block of code\r\n",
        "elif other_condition:\r\n",
        "\t# Another block of code\r\n",
        "else:\r\n",
        "\t# Final block of code\r\n",
        "```"
      ]
    },
    {
      "cell_type": "code",
      "metadata": {
        "id": "xEGynvgw6a8R",
        "outputId": "84978384-0963-4388-a3b0-c27571127574",
        "colab": {
          "base_uri": "https://localhost:8080/"
        }
      },
      "source": [
        "edad = input(\"Dame tu edad: \")\r\n",
        "edad = int(edad) #Cast de str a int\r\n",
        "print(f\"La edad introducida es: {edad}\")\r\n",
        "\r\n",
        "if edad >= 18 and edad <= 100:\r\n",
        "  print(\"Eres mayor de edad\")\r\n",
        "elif edad > 100:\r\n",
        "  print(\"Wow que logro de vida (literal)!\")\r\n",
        "elif edad < 0:\r\n",
        "  print(\"Imposible tener esa edad, ¿estás bien?\")\r\n",
        "else:\r\n",
        "  print(\"Eres menor de edad\")"
      ],
      "execution_count": 25,
      "outputs": [
        {
          "output_type": "stream",
          "text": [
            "Dame tu edad: -23\n",
            "La edad introducida es: -23\n",
            "Imposible tener esa edad, ¿estás bien?\n"
          ],
          "name": "stdout"
        }
      ]
    },
    {
      "cell_type": "code",
      "metadata": {
        "id": "sxSzevaF79bc",
        "outputId": "14583fcb-57ac-44c5-cc7f-466e811c2c80",
        "colab": {
          "base_uri": "https://localhost:8080/"
        }
      },
      "source": [
        "# Un grupo de amigos quiere entrar a un antro, pero solo entraran si TODOS pueden pasar.\r\n",
        "jose = 23\r\n",
        "emmanuel = 21\r\n",
        "axo = 18\r\n",
        "\r\n",
        "if jose >= 18 and emmanuel >= 18 and axo >= 18:\r\n",
        " print(\"TODOS pueden pasar\")\r\n",
        "else:\r\n",
        "  print(\"Nadie va a pasar, ya que uno de ellos es menor\")"
      ],
      "execution_count": 27,
      "outputs": [
        {
          "output_type": "stream",
          "text": [
            "TODOS pueden pasar\n"
          ],
          "name": "stdout"
        }
      ]
    },
    {
      "cell_type": "code",
      "metadata": {
        "id": "TLOfGNHG8sjC",
        "outputId": "e2bcb2c0-849d-4774-90d6-1e2b2b8d4ffd",
        "colab": {
          "base_uri": "https://localhost:8080/"
        }
      },
      "source": [
        "#Con base a los atributos de un animal determinar si es conocido o no.\r\n",
        "animal = \"perro\"\r\n",
        "raza = \"pitbull\"\r\n",
        "\r\n",
        "if animal == \"perro\":\r\n",
        "  if raza == \"pitbull\":\r\n",
        "    print(\"Es mi perro.\")\r\n",
        "  else:\r\n",
        "    print(\"No es mi perro.\")\r\n",
        "else:\r\n",
        "  print(\"Solo conozco perros.\")"
      ],
      "execution_count": 28,
      "outputs": [
        {
          "output_type": "stream",
          "text": [
            "Es mi perro.\n"
          ],
          "name": "stdout"
        }
      ]
    },
    {
      "cell_type": "code",
      "metadata": {
        "id": "HsKCa9f99hYx",
        "outputId": "ce9315b4-2742-4224-9720-54c7f45d69f3",
        "colab": {
          "base_uri": "https://localhost:8080/",
          "height": 35
        }
      },
      "source": [
        "color_cabello = \"verde\"\r\n",
        "\"Es el cabello de José\" if color_cabello == \"rojo\" else \"No sé de quién es ese cabello\""
      ],
      "execution_count": 30,
      "outputs": [
        {
          "output_type": "execute_result",
          "data": {
            "application/vnd.google.colaboratory.intrinsic+json": {
              "type": "string"
            },
            "text/plain": [
              "'No sé de quién es ese cabello'"
            ]
          },
          "metadata": {
            "tags": []
          },
          "execution_count": 30
        }
      ]
    },
    {
      "cell_type": "code",
      "metadata": {
        "id": "ymJWMxNu92a9",
        "outputId": "05394055-06fd-4b1e-8755-b799a531516d",
        "colab": {
          "base_uri": "https://localhost:8080/"
        }
      },
      "source": [
        "z = 2 + 3j\r\n",
        "\r\n",
        "print(z.__dir__()) #Ver los atributos de la variable\r\n",
        "\r\n",
        "print(z.real, z.imag) #Imprimier la parte real e imaginaria del número.\r\n",
        "print(z.conjugate()) #Realizar el conjudado del número"
      ],
      "execution_count": 31,
      "outputs": [
        {
          "output_type": "stream",
          "text": [
            "['__repr__', '__hash__', '__str__', '__getattribute__', '__lt__', '__le__', '__eq__', '__ne__', '__gt__', '__ge__', '__add__', '__radd__', '__sub__', '__rsub__', '__mul__', '__rmul__', '__mod__', '__rmod__', '__divmod__', '__rdivmod__', '__pow__', '__rpow__', '__neg__', '__pos__', '__abs__', '__bool__', '__int__', '__float__', '__floordiv__', '__rfloordiv__', '__truediv__', '__rtruediv__', '__new__', 'conjugate', '__getnewargs__', '__format__', 'real', 'imag', '__doc__', '__setattr__', '__delattr__', '__init__', '__reduce_ex__', '__reduce__', '__subclasshook__', '__init_subclass__', '__sizeof__', '__dir__', '__class__']\n",
            "2.0 3.0\n",
            "(2-3j)\n"
          ],
          "name": "stdout"
        }
      ]
    }
  ]
}