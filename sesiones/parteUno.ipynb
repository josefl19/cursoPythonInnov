{
  "nbformat": 4,
  "nbformat_minor": 0,
  "metadata": {
    "colab": {
      "name": "parteUno.ipynb",
      "provenance": [],
      "collapsed_sections": [],
      "toc_visible": true,
      "authorship_tag": "ABX9TyPva3/ejtds09hS4dPVg3S4",
      "include_colab_link": true
    },
    "kernelspec": {
      "name": "python3",
      "display_name": "Python 3"
    }
  },
  "cells": [
    {
      "cell_type": "markdown",
      "metadata": {
        "id": "view-in-github",
        "colab_type": "text"
      },
      "source": [
        "<a href=\"https://colab.research.google.com/github/josefl19/cursoPythonInnov/blob/main/sesiones/parteUno.ipynb\" target=\"_parent\"><img src=\"https://colab.research.google.com/assets/colab-badge.svg\" alt=\"Open In Colab\"/></a>"
      ]
    },
    {
      "cell_type": "markdown",
      "metadata": {
        "id": "fHcxW4wHiLPI"
      },
      "source": [
        "# Curso Introductorio de Python de Innovacción 2021\r\n",
        "\r\n",
        "Curso de introducción a la programación con Python para la comunidad de **Innovacción Virtual** impartido por **Rodolfo Ferro**.\r\n",
        "\r\n",
        "##### **Ejemplo Redes:**\r\n",
        "- GitHub: [Github](https://github.com/josefl19), josefl19\r\n",
        "- Twitter: [Twitter](https://twitter.com/jose_fujarte), @jose_fujarte\r\n"
      ]
    },
    {
      "cell_type": "markdown",
      "metadata": {
        "id": "Ih_snw0hkgJB"
      },
      "source": [
        "## I/O - ¡Hola mundo!\r\n",
        "\r\n",
        "`input()` y `print()` son las funciones de entrada y salida (respectivamente) de información en Python. \r\n",
        "\r\n",
        "`input()` tiene como argumento una cadena de texto que da las instrucciones que se deseas desplegar y lo que retorna (la respuesta) siempre es una cadena de texto; mientras que `print()` tiene como argumentos cadenas de texto o variables que se desean desplegar.\r\n",
        "\r\n",
        "#### Ejemplo:\r\n",
        "\r\n",
        "```python\r\n",
        "nombre = input(\"Introduce tu nombre: \")\r\n",
        "print(f\"Mucho gusto, {nombre}\")\r\n",
        "```\r\n",
        "\r\n",
        "Formatted string literals (también llamados f-strings para abreviar) le permiten incluir el valor de las expresiones de Python dentro de una cadena prefijando la cadena con `f` o `F` y escribiendo expresiones como `{expresion}`."
      ]
    },
    {
      "cell_type": "code",
      "metadata": {
        "colab": {
          "base_uri": "https://localhost:8080/"
        },
        "id": "gfm2a6dmkgkh",
        "outputId": "334b37ea-ecd8-4906-8b14-788bfaee325d"
      },
      "source": [
        "print(\"Hola mundo!\")"
      ],
      "execution_count": 1,
      "outputs": [
        {
          "output_type": "stream",
          "text": [
            "Hola mundo!\n"
          ],
          "name": "stdout"
        }
      ]
    },
    {
      "cell_type": "code",
      "metadata": {
        "colab": {
          "base_uri": "https://localhost:8080/"
        },
        "id": "Dq9u9KYhlAlD",
        "outputId": "b8982073-fba6-4ae4-d163-acb700eb7f25"
      },
      "source": [
        "nombre=input(\"Dime tu nombre: \")\r\n",
        "print(f\"Bienvenido, {nombre}\")"
      ],
      "execution_count": 2,
      "outputs": [
        {
          "output_type": "stream",
          "text": [
            "Dime tu nombre: José\n",
            "Bienvenido, José\n"
          ],
          "name": "stdout"
        }
      ]
    },
    {
      "cell_type": "markdown",
      "metadata": {
        "id": "hwYdJFiEuylK"
      },
      "source": [
        "## Variables, tipos de datos y conversión\r\n",
        "\r\n",
        "Podemos pensar que una variable es como un contenedor de información. Python puede albergar distintos tipos de datos, como valores numéricos, booleanos y cadenas de texto. Al ser Python de tipado dinámico, no hace falta declarar el tipo de variable, sino que sólo basta con definir sus valores.\r\n",
        "\r\n",
        "#### Ejemplo:\r\n",
        "\r\n",
        "```python\r\n",
        "name = \"Rodolfo\"\r\n",
        "age = 27\r\n",
        "pi = 3.1416\r\n",
        "age = float(age)\r\n",
        "\r\n",
        "print(name, age)\r\n",
        "print(type(name), type(age))\r\n",
        "```"
      ]
    },
    {
      "cell_type": "code",
      "metadata": {
        "colab": {
          "base_uri": "https://localhost:8080/"
        },
        "id": "5wK-L3r3vr8s",
        "outputId": "0d0d23f2-ca27-450f-b04b-99aa398d10e2"
      },
      "source": [
        "variable1 = \"Cadena de texto!\"\r\n",
        "print(variable1)"
      ],
      "execution_count": 4,
      "outputs": [
        {
          "output_type": "stream",
          "text": [
            "Cadena de texto!\n"
          ],
          "name": "stdout"
        }
      ]
    },
    {
      "cell_type": "code",
      "metadata": {
        "colab": {
          "base_uri": "https://localhost:8080/"
        },
        "id": "B_6bL88Lv3tB",
        "outputId": "9675156e-39f3-4d08-bc1d-3763543b83d1"
      },
      "source": [
        "edad = 27\r\n",
        "print(f\"Edad: {edad}\")"
      ],
      "execution_count": 5,
      "outputs": [
        {
          "output_type": "stream",
          "text": [
            "Edad: 27\n"
          ],
          "name": "stdout"
        }
      ]
    },
    {
      "cell_type": "code",
      "metadata": {
        "colab": {
          "base_uri": "https://localhost:8080/"
        },
        "id": "huWtp5hyzHmX",
        "outputId": "40705850-4c0e-4635-8a36-ad200a6cc494"
      },
      "source": [
        "pi = 3.14159265358979\r\n",
        "print(f\"El numero pi: {pi}\")"
      ],
      "execution_count": 6,
      "outputs": [
        {
          "output_type": "stream",
          "text": [
            "El numero pi: 3.14159265358979\n"
          ],
          "name": "stdout"
        }
      ]
    },
    {
      "cell_type": "code",
      "metadata": {
        "colab": {
          "base_uri": "https://localhost:8080/"
        },
        "id": "g86yuAJZzYQ3",
        "outputId": "205a9726-165f-4248-9c14-5fa894b02e45"
      },
      "source": [
        "print(type(edad)) # Integer - Número entero\r\n",
        "print(type(pi)) # Float - Número decimal\r\n",
        "print(type(variable1)) # String - Cadena de texto"
      ],
      "execution_count": 7,
      "outputs": [
        {
          "output_type": "stream",
          "text": [
            "<class 'int'>\n",
            "<class 'float'>\n",
            "<class 'str'>\n"
          ],
          "name": "stdout"
        }
      ]
    }
  ]
}