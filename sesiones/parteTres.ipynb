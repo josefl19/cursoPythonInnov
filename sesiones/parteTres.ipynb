{
  "nbformat": 4,
  "nbformat_minor": 0,
  "metadata": {
    "colab": {
      "name": "parteTres.ipynb",
      "provenance": [],
      "collapsed_sections": [],
      "authorship_tag": "ABX9TyMe6wifO8VYEj8tlWl1UhWj",
      "include_colab_link": true
    },
    "kernelspec": {
      "name": "python3",
      "display_name": "Python 3"
    }
  },
  "cells": [
    {
      "cell_type": "markdown",
      "metadata": {
        "id": "view-in-github",
        "colab_type": "text"
      },
      "source": [
        "<a href=\"https://colab.research.google.com/github/josefl19/cursoPythonInnov/blob/main/sesiones/parteTres.ipynb\" target=\"_parent\"><img src=\"https://colab.research.google.com/assets/colab-badge.svg\" alt=\"Open In Colab\"/></a>"
      ]
    },
    {
      "cell_type": "markdown",
      "metadata": {
        "id": "dUuPdP_W-n9S"
      },
      "source": [
        "#Curso Python (parte 3)\r\n",
        "\r\n",
        "#### Continuación del curso de Python de **Innovacción Virtual**."
      ]
    },
    {
      "cell_type": "markdown",
      "metadata": {
        "id": "lAgXheoQ-9vz"
      },
      "source": [
        "## Funciones (parte 2)\r\n",
        "\r\n",
        "La manera en la que empaquetamos procesos que ejecutan un bloque completo de código es a través de funciones, la sintaxis de Python es muy sencilla y eficiente para escribir bloques de código de forma ordenada.\r\n",
        "\r\n",
        "La mayoría de los paquetes en Python están conformados por objetos y funciones.\r\n",
        "\r\n",
        "#### Sintaxis:\r\n",
        "\r\n",
        "```python\r\n",
        "def function_name(arguments):\r\n",
        "    # Block of code\r\n",
        "\t# Final block of code\r\n",
        "\treturn something\r\n",
        "```"
      ]
    },
    {
      "cell_type": "markdown",
      "metadata": {
        "id": "S3RWuWgu22A-"
      },
      "source": [
        "### Módulo Random"
      ]
    },
    {
      "cell_type": "code",
      "metadata": {
        "colab": {
          "base_uri": "https://localhost:8080/"
        },
        "id": "oX0aA_lI3L5u",
        "outputId": "c4247e4d-6655-435b-99f8-f151a450f34a"
      },
      "source": [
        "import random\r\n",
        "print(random.randint(1,20))"
      ],
      "execution_count": 1,
      "outputs": [
        {
          "output_type": "stream",
          "text": [
            "9\n"
          ],
          "name": "stdout"
        }
      ]
    },
    {
      "cell_type": "code",
      "metadata": {
        "colab": {
          "base_uri": "https://localhost:8080/"
        },
        "id": "k1UrElS33dao",
        "outputId": "83c3a198-0a6c-4217-f8e0-a3de285541c6"
      },
      "source": [
        "def tira_dados(n_dados):\r\n",
        "    for dado in range(n_dados):\r\n",
        "        print(random.randint(1, 6))\r\n",
        "\r\n",
        "tira_dados(6)"
      ],
      "execution_count": 3,
      "outputs": [
        {
          "output_type": "stream",
          "text": [
            "3\n",
            "5\n",
            "4\n",
            "3\n",
            "3\n",
            "3\n"
          ],
          "name": "stdout"
        }
      ]
    },
    {
      "cell_type": "markdown",
      "metadata": {
        "id": "-T1xH0eq3wUb"
      },
      "source": [
        "## Diccionarios\r\n",
        "\r\n",
        "Una **colección** es un conjunto de elementos que se agrupan en una sola estructura de datos de Python. De manera nativa Python tiene soporte para:\r\n",
        "- Listas y tuplas\r\n",
        "- Diccionarios y conjuntos\r\n",
        "- ¿Otros?\r\n",
        "\r\n",
        "#### Ejemplo:\r\n",
        "\r\n",
        "```python\r\n",
        "my_list = [1.0, 2.0, 3.0]\r\n",
        "my_tuple = (1.0, 2.0, 3.0)\r\n",
        "my_dict = {\r\n",
        "    \"day\": 6,\r\n",
        "    \"month\": \"August\"\r\n",
        "}\r\n",
        "```\r\n",
        "\r\n",
        "- Los diccionarios funcionan con llaves, en lugar de \r\n",
        "índices.\r\n",
        "- Existen funciones para extraer todos los elementos de golpe."
      ]
    },
    {
      "cell_type": "code",
      "metadata": {
        "id": "e6Erj9qC5Uyk"
      },
      "source": [
        "cita = {\r\n",
        "    \"fecha\": \"21/10/2020\",\r\n",
        "    \"paciente\": \"Carlos Ahumada\",\r\n",
        "    \"medico\": \"Dr. Ricardo Mirón\",\r\n",
        "    \"consultorio\": 35\r\n",
        "}"
      ],
      "execution_count": 5,
      "outputs": []
    },
    {
      "cell_type": "code",
      "metadata": {
        "colab": {
          "base_uri": "https://localhost:8080/"
        },
        "id": "hnjFq5zz5ZBD",
        "outputId": "2448ced0-1d58-4ed5-c745-e1227af7802d"
      },
      "source": [
        "print(cita[\"fecha\"])\r\n",
        "print(cita[\"consultorio\"])"
      ],
      "execution_count": 6,
      "outputs": [
        {
          "output_type": "stream",
          "text": [
            "21/10/2020\n",
            "35\n"
          ],
          "name": "stdout"
        }
      ]
    },
    {
      "cell_type": "code",
      "metadata": {
        "id": "Rs8x0jn-6_Cd"
      },
      "source": [
        "citas = [\r\n",
        "    {\r\n",
        "        \"fecha\": \"21/10/2020\",\r\n",
        "        \"paciente\": \"Carlos Ahumada\",\r\n",
        "        \"medico\": \"Dr. Ricardo Mirón\",\r\n",
        "        \"consultorio\": 35\r\n",
        "    }, # 0\r\n",
        "    {\r\n",
        "        \"fecha\": \"21/10/2020\",\r\n",
        "        \"paciente\": \"Rodo Ferro\",\r\n",
        "        \"medico\": \"Dr. Ricardo Mirón\",\r\n",
        "        \"consultorio\": 35\r\n",
        "    }, # 1\r\n",
        "    {\r\n",
        "        \"fecha\": \"21/10/2020\",\r\n",
        "        \"paciente\": \"Carlos Torres\",\r\n",
        "        \"medico\": \"Dra. DuPont\",\r\n",
        "        \"consultorio\": 420\r\n",
        "    }  # 2  \r\n",
        "]"
      ],
      "execution_count": 7,
      "outputs": []
    },
    {
      "cell_type": "code",
      "metadata": {
        "colab": {
          "base_uri": "https://localhost:8080/"
        },
        "id": "r8wrH_C_8yjk",
        "outputId": "1d3a1d7a-ac65-4cf3-d110-f633ed5a11ee"
      },
      "source": [
        "print(citas[1][\"paciente\"])\r\n",
        "citas[1][\"paciente\"] = \"Rodolfo Ferro\"\r\n",
        "print(citas[1][\"paciente\"])"
      ],
      "execution_count": 8,
      "outputs": [
        {
          "output_type": "stream",
          "text": [
            "Rodo Ferro\n",
            "Rodolfo Ferro\n"
          ],
          "name": "stdout"
        }
      ]
    },
    {
      "cell_type": "markdown",
      "metadata": {
        "id": "EXzwGhfV-H0O"
      },
      "source": [
        "## Objetos web: JSON\r\n",
        "\r\n",
        "**JSON**, de **J**ava**S**cript **O**bject **N**otation, es un estándar de formato para contenidos en la web. La notación describe el formato agrupado de los objetos a través de `[]` y `{}`, lo que hace que sea muy similar a trabajar con listas y diccionarios de manera conjunta.\r\n",
        "\r\n",
        "Este es un estándar muy utilizado en la actualidad para comunicar procesos y servicios a través de la web.\r\n",
        "\r\n",
        "#### Ejemplo:\r\n",
        "\r\n",
        "<center>\r\n",
        "    <img src=\"https://raw.githubusercontent.com/RodolfoFerro/python-innovaccion/main/assets/vision_example.png\" width=\"50%\">\r\n",
        "</center>\r\n",
        "\r\n",
        "```json\r\n",
        "[\r\n",
        "  {\r\n",
        "    \"faceId\": \"be14f796-bbdb-4e73-91e6-135bc796ac98\",\r\n",
        "    \"faceRectangle\": {\r\n",
        "      \"top\": 76,\r\n",
        "      \"left\": 446,\r\n",
        "      \"width\": 226,\r\n",
        "      \"height\": 284\r\n",
        "    },\r\n",
        "    \"faceAttributes\": null,\r\n",
        "    \"faceLandmarks\": null\r\n",
        "  }\r\n",
        "]\r\n",
        "```"
      ]
    },
    {
      "cell_type": "markdown",
      "metadata": {
        "id": "k8yqu-7EBVc_"
      },
      "source": [
        "Hagamos un breve repaso de cómo utilizar diccionarios y listas con este ejemplo de respuesta en formato JSON..."
      ]
    },
    {
      "cell_type": "code",
      "metadata": {
        "id": "NhoapWpgBXAW"
      },
      "source": [
        "cognitive_response = [\r\n",
        "  {\r\n",
        "    \"rectangle\": {\r\n",
        "      \"x\": 6,\r\n",
        "      \"y\": 390,\r\n",
        "      \"w\": 48,\r\n",
        "      \"h\": 40\r\n",
        "    },\r\n",
        "    \"object\": \"footwear\",\r\n",
        "    \"confidence\": 0.513\r\n",
        "  },\r\n",
        "  {\r\n",
        "    \"rectangle\": {\r\n",
        "      \"x\": 104,\r\n",
        "      \"y\": 104,\r\n",
        "      \"w\": 127,\r\n",
        "      \"h\": 323\r\n",
        "    },\r\n",
        "    \"object\": \"person\",\r\n",
        "    \"confidence\": 0.763\r\n",
        "  },\r\n",
        "  {\r\n",
        "    \"rectangle\": {\r\n",
        "      \"x\": 174,\r\n",
        "      \"y\": 236,\r\n",
        "      \"w\": 113,\r\n",
        "      \"h\": 74\r\n",
        "    },\r\n",
        "    \"object\": \"Laptop\",\r\n",
        "    \"parent\": {\r\n",
        "      \"object\": \"computer\",\r\n",
        "      \"confidence\": 0.56\r\n",
        "    },\r\n",
        "    \"confidence\": 0.553\r\n",
        "  },\r\n",
        "  {\r\n",
        "    \"rectangle\": {\r\n",
        "      \"x\": 351,\r\n",
        "      \"y\": 331,\r\n",
        "      \"w\": 154,\r\n",
        "      \"h\": 99\r\n",
        "    },\r\n",
        "    \"object\": \"seating\",\r\n",
        "    \"confidence\": 0.525\r\n",
        "  },\r\n",
        "  {\r\n",
        "    \"rectangle\": {\r\n",
        "      \"x\": 0,\r\n",
        "      \"y\": 101,\r\n",
        "      \"w\": 174,\r\n",
        "      \"h\": 329\r\n",
        "    },\r\n",
        "    \"object\": \"person\",\r\n",
        "    \"confidence\": 0.855\r\n",
        "  },\r\n",
        "  {\r\n",
        "    \"rectangle\": {\r\n",
        "      \"x\": 223,\r\n",
        "      \"y\": 99,\r\n",
        "      \"w\": 199,\r\n",
        "      \"h\": 322\r\n",
        "    },\r\n",
        "    \"object\": \"person\",\r\n",
        "    \"confidence\": 0.725\r\n",
        "  },\r\n",
        "  {\r\n",
        "    \"rectangle\": {\r\n",
        "      \"x\": 154,\r\n",
        "      \"y\": 191,\r\n",
        "      \"w\": 387,\r\n",
        "      \"h\": 218\r\n",
        "    },\r\n",
        "    \"object\": \"seating\",\r\n",
        "    \"confidence\": 0.679\r\n",
        "  },\r\n",
        "  {\r\n",
        "    \"rectangle\": {\r\n",
        "      \"x\": 111,\r\n",
        "      \"y\": 275,\r\n",
        "      \"w\": 264,\r\n",
        "      \"h\": 151\r\n",
        "    },\r\n",
        "    \"object\": \"table\",\r\n",
        "    \"confidence\": 0.601\r\n",
        "  }\r\n",
        "]"
      ],
      "execution_count": 9,
      "outputs": []
    },
    {
      "cell_type": "code",
      "metadata": {
        "colab": {
          "base_uri": "https://localhost:8080/"
        },
        "id": "7gf9cjxJBh1b",
        "outputId": "ad564e63-9703-4e5a-894b-d24071cfb676"
      },
      "source": [
        "for indice in range(len(cognitive_response)): # len - legth (# elementos)\r\n",
        "    print(cognitive_response[indice][\"object\"])"
      ],
      "execution_count": 10,
      "outputs": [
        {
          "output_type": "stream",
          "text": [
            "footwear\n",
            "person\n",
            "Laptop\n",
            "seating\n",
            "person\n",
            "person\n",
            "seating\n",
            "table\n"
          ],
          "name": "stdout"
        }
      ]
    },
    {
      "cell_type": "code",
      "metadata": {
        "colab": {
          "base_uri": "https://localhost:8080/"
        },
        "id": "a-SBZ7QRBicn",
        "outputId": "a0de2712-c9d3-464f-abc8-693d0cb95e20"
      },
      "source": [
        "for indice in range(len(cognitive_response)): # len - legth (# elementos)\r\n",
        "    x = cognitive_response[indice][\"rectangle\"][\"x\"]\r\n",
        "    y = cognitive_response[indice][\"rectangle\"][\"y\"]\r\n",
        "    print((x, y))"
      ],
      "execution_count": 11,
      "outputs": [
        {
          "output_type": "stream",
          "text": [
            "(6, 390)\n",
            "(104, 104)\n",
            "(174, 236)\n",
            "(351, 331)\n",
            "(0, 101)\n",
            "(223, 99)\n",
            "(154, 191)\n",
            "(111, 275)\n"
          ],
          "name": "stdout"
        }
      ]
    },
    {
      "cell_type": "markdown",
      "metadata": {
        "id": "05Rk8qL8NCls"
      },
      "source": [
        "## Intro a `requests`\r\n",
        "\r\n",
        "Requests es un paquete que está desarrollado para Python y que nos permite poder consumir servicios web a través de peticiones HTTP.\r\n",
        "\r\n",
        "Es un módulo muy sencillod e utilizar y es de los más ppopulares en Python.\r\n",
        "\r\n",
        "#### Caso de uso:\r\n",
        "\r\n",
        "```python\r\n",
        "import requests\r\n",
        "\r\n",
        "\r\n",
        "url = \"https://pokeapi.co/api/v2/pokemon/144\"\r\n",
        "response = requests.get(url)\r\n",
        "\r\n",
        "print(response.json())\r\n",
        "```\r\n",
        "\r\n",
        "Al formatear la respuesta, dberíamos obtener un objeto JSON como el que sigue:\r\n",
        "\r\n",
        "```json\r\n",
        "{\r\n",
        "  \"abilities\": [\r\n",
        "    {\r\n",
        "      \"ability\": {\r\n",
        "        \"name\": \"pressure\",\r\n",
        "        \"url\": \"https://pokeapi.co/api/v2/ability/46/\"\r\n",
        "      },\r\n",
        "      \"is_hidden\": false,\r\n",
        "      \"slot\": 1\r\n",
        "    },\r\n",
        "    {\r\n",
        "      \"ability\": {\r\n",
        "        \"name\": \"snow-cloak\",\r\n",
        "        \"url\": \"https://pokeapi.co/api/v2/ability/81/\"\r\n",
        "      },\r\n",
        "      \"is_hidden\": true,\r\n",
        "      \"slot\": 3\r\n",
        "    }\r\n",
        "  ],\r\n",
        "  \"base_experience\": 261,\r\n",
        "  \"forms\": [\r\n",
        "    {\r\n",
        "      \"name\": \"articuno\",\r\n",
        "      \"url\": \"https://pokeapi.co/api/v2/pokemon-form/144/\"\r\n",
        "    }\r\n",
        "  ],\r\n",
        "\r\n",
        "  ...\r\n",
        "\r\n",
        "  \"types\": [\r\n",
        "    {\r\n",
        "      \"slot\": 1,\r\n",
        "      \"type\": {\r\n",
        "        \"name\": \"ice\",\r\n",
        "        \"url\": \"https://pokeapi.co/api/v2/type/15/\"\r\n",
        "      }\r\n",
        "    },\r\n",
        "    {\r\n",
        "      \"slot\": 2,\r\n",
        "      \"type\": {\r\n",
        "        \"name\": \"flying\",\r\n",
        "        \"url\": \"https://pokeapi.co/api/v2/type/3/\"\r\n",
        "      }\r\n",
        "    }\r\n",
        "  ],\r\n",
        "  \"weight\": 554\r\n",
        "}\r\n",
        "```\r\n",
        "\r\n",
        "Una de las ventajas interesantes es que aunque normalmente es necesario instalar requests, Colab ya cuenta con el paquete instalado.\r\n"
      ]
    },
    {
      "cell_type": "code",
      "metadata": {
        "id": "n_JGyg8qO9v8"
      },
      "source": [
        "import requests\r\n",
        "\r\n",
        "url = \"https://pokeapi.co/api/v2/pokemon/25\"\r\n",
        "r = requests.get(url)"
      ],
      "execution_count": 13,
      "outputs": []
    },
    {
      "cell_type": "code",
      "metadata": {
        "id": "QJ16GqhGRZPB"
      },
      "source": [
        "print(r.json())"
      ],
      "execution_count": null,
      "outputs": []
    },
    {
      "cell_type": "code",
      "metadata": {
        "id": "NNJyLVmURdY7"
      },
      "source": [
        "from pprint import pprint\r\n",
        "pprint(r.json())"
      ],
      "execution_count": null,
      "outputs": []
    }
  ]
}