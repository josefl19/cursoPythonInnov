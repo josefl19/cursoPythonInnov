{
  "nbformat": 4,
  "nbformat_minor": 0,
  "metadata": {
    "colab": {
      "name": "parteDos.ipynb",
      "provenance": [],
      "authorship_tag": "ABX9TyPpFYaBappRFEhmb4bTip8M",
      "include_colab_link": true
    },
    "kernelspec": {
      "name": "python3",
      "display_name": "Python 3"
    }
  },
  "cells": [
    {
      "cell_type": "markdown",
      "metadata": {
        "id": "view-in-github",
        "colab_type": "text"
      },
      "source": [
        "<a href=\"https://colab.research.google.com/github/josefl19/cursoPythonInnov/blob/main/sesiones/parteDos.ipynb\" target=\"_parent\"><img src=\"https://colab.research.google.com/assets/colab-badge.svg\" alt=\"Open In Colab\"/></a>"
      ]
    },
    {
      "cell_type": "markdown",
      "metadata": {
        "id": "AFdMmF7vDHNK"
      },
      "source": [
        "#Curso de Python (parte 2)"
      ]
    },
    {
      "cell_type": "markdown",
      "metadata": {
        "id": "Y2-pJa_vDOV6"
      },
      "source": [
        "## Listas y tuplas\r\n",
        "\r\n",
        "Una **colección** es un conjunto de elementos que se agrupan en una sola estructura de datos de Python. De manera nativa Python tiene soporte para:\r\n",
        "- Listas y tuplas\r\n",
        "- Diccionarios y conjuntos\r\n",
        "- ¿Otros?\r\n",
        "\r\n",
        "#### Ejemplo:\r\n",
        "\r\n",
        "```python\r\n",
        "lista = [1.0, 2.0, 3.0]\r\n",
        "tupla = (1.0, 2.0, 3.0)\r\n",
        "diccionario = {\r\n",
        "    \"day\": 6,\r\n",
        "    \"month\": \"August\"\r\n",
        "}\r\n",
        "```\r\n",
        "\r\n",
        "- Las listas y tuplas tienen un índice asociado.\r\n",
        "- Las listas y tuplas tienen una longitud (número de elementos) asociado.\r\n",
        "- Se puede hacer slicing."
      ]
    },
    {
      "cell_type": "code",
      "metadata": {
        "colab": {
          "base_uri": "https://localhost:8080/"
        },
        "id": "BOL876gcFUky",
        "outputId": "1b09a946-1ed4-4d67-e27b-c58678095069"
      },
      "source": [
        "lista_tacos = [\r\n",
        "    \"chorizo\",  #0\r\n",
        "    \"bistek\",   #1\r\n",
        "    \"pastor\",   #2\r\n",
        "    \"tripas\",   #3\r\n",
        "    \"cabeza\",   #4\r\n",
        "    \"lengua\"    #5\r\n",
        "]\r\n",
        "print(lista_tacos)"
      ],
      "execution_count": 2,
      "outputs": [
        {
          "output_type": "stream",
          "text": [
            "['chorizo', 'bistek', 'pastor', 'tripas', 'cabeza', 'lengua']\n"
          ],
          "name": "stdout"
        }
      ]
    },
    {
      "cell_type": "code",
      "metadata": {
        "colab": {
          "base_uri": "https://localhost:8080/"
        },
        "id": "I-SXKt59GBpU",
        "outputId": "4100a57a-d9b4-4205-80da-deca1d4cde7f"
      },
      "source": [
        "#Acceder a una posición de la lista\r\n",
        "print(lista_tacos[2])\r\n",
        "print(lista_tacos[5])"
      ],
      "execution_count": 2,
      "outputs": [
        {
          "output_type": "stream",
          "text": [
            "pastor\n",
            "lengua\n"
          ],
          "name": "stdout"
        }
      ]
    },
    {
      "cell_type": "code",
      "metadata": {
        "colab": {
          "base_uri": "https://localhost:8080/"
        },
        "id": "FPGMB3ohGMEd",
        "outputId": "069f778d-b46a-45d1-8b4e-a9068fabe5d5"
      },
      "source": [
        "# Obtener el tamaño de la lista (numero de elementos)\r\n",
        "print(len(lista_tacos))"
      ],
      "execution_count": 5,
      "outputs": [
        {
          "output_type": "stream",
          "text": [
            "6\n"
          ],
          "name": "stdout"
        }
      ]
    },
    {
      "cell_type": "code",
      "metadata": {
        "colab": {
          "base_uri": "https://localhost:8080/"
        },
        "id": "9GVE9zEoGbi8",
        "outputId": "57ea0cfd-d0f2-492e-8a1a-9fcbdbb6babe"
      },
      "source": [
        "print(lista_tacos[5])\r\n",
        "lista_tacos[5] = \"combinado\"\r\n",
        "print(lista_tacos[5])"
      ],
      "execution_count": 6,
      "outputs": [
        {
          "output_type": "stream",
          "text": [
            "lengua\n",
            "combinado\n"
          ],
          "name": "stdout"
        }
      ]
    },
    {
      "cell_type": "code",
      "metadata": {
        "colab": {
          "base_uri": "https://localhost:8080/"
        },
        "id": "z9sx2ZATGwZN",
        "outputId": "dc01fed9-5ac7-435e-e1f8-0ac4272dc2a9"
      },
      "source": [
        "# Manejo de tuplas\r\n",
        "tuplas_tacos = (\r\n",
        "    \"chorizo\",  #0\r\n",
        "    \"bisteck\",  #1\r\n",
        "    \"pastor\",   #2\r\n",
        "    \"papa\",     #3\r\n",
        "    \"cabeza\",   #4\r\n",
        "    \"lengua\",   #5\r\n",
        "    \"cesos\"     #6\r\n",
        ")\r\n",
        "\r\n",
        "print(tuplas_tacos[2])"
      ],
      "execution_count": 7,
      "outputs": [
        {
          "output_type": "stream",
          "text": [
            "pastor\n"
          ],
          "name": "stdout"
        }
      ]
    },
    {
      "cell_type": "code",
      "metadata": {
        "colab": {
          "base_uri": "https://localhost:8080/",
          "height": 231
        },
        "id": "KJ3UCNNmHOdG",
        "outputId": "20c0c6b1-3a2c-4053-9cdd-84902f26fd52"
      },
      "source": [
        "#Las tuplas son INMUTABLES (no se puede cambiar su valor)\r\n",
        "print(tuplas_tacos[2])\r\n",
        "tuplas_tacos[2] = \"pastor con piña\"\r\n",
        "print(tuplas_tacos[2])"
      ],
      "execution_count": 8,
      "outputs": [
        {
          "output_type": "stream",
          "text": [
            "pastor\n"
          ],
          "name": "stdout"
        },
        {
          "output_type": "error",
          "ename": "TypeError",
          "evalue": "ignored",
          "traceback": [
            "\u001b[0;31m---------------------------------------------------------------------------\u001b[0m",
            "\u001b[0;31mTypeError\u001b[0m                                 Traceback (most recent call last)",
            "\u001b[0;32m<ipython-input-8-cb0f3a2b8061>\u001b[0m in \u001b[0;36m<module>\u001b[0;34m()\u001b[0m\n\u001b[1;32m      1\u001b[0m \u001b[0;31m#Las tuplas son INMUTABLES (no se puede cambiar su valor)\u001b[0m\u001b[0;34m\u001b[0m\u001b[0;34m\u001b[0m\u001b[0;34m\u001b[0m\u001b[0m\n\u001b[1;32m      2\u001b[0m \u001b[0mprint\u001b[0m\u001b[0;34m(\u001b[0m\u001b[0mtuplas_tacos\u001b[0m\u001b[0;34m[\u001b[0m\u001b[0;36m2\u001b[0m\u001b[0;34m]\u001b[0m\u001b[0;34m)\u001b[0m\u001b[0;34m\u001b[0m\u001b[0;34m\u001b[0m\u001b[0m\n\u001b[0;32m----> 3\u001b[0;31m \u001b[0mtuplas_tacos\u001b[0m\u001b[0;34m[\u001b[0m\u001b[0;36m2\u001b[0m\u001b[0;34m]\u001b[0m \u001b[0;34m=\u001b[0m \u001b[0;34m\"pastor con piña\"\u001b[0m\u001b[0;34m\u001b[0m\u001b[0;34m\u001b[0m\u001b[0m\n\u001b[0m\u001b[1;32m      4\u001b[0m \u001b[0mprint\u001b[0m\u001b[0;34m(\u001b[0m\u001b[0mtuplas_tacos\u001b[0m\u001b[0;34m[\u001b[0m\u001b[0;36m2\u001b[0m\u001b[0;34m]\u001b[0m\u001b[0;34m)\u001b[0m\u001b[0;34m\u001b[0m\u001b[0;34m\u001b[0m\u001b[0m\n",
            "\u001b[0;31mTypeError\u001b[0m: 'tuple' object does not support item assignment"
          ]
        }
      ]
    },
    {
      "cell_type": "code",
      "metadata": {
        "colab": {
          "base_uri": "https://localhost:8080/"
        },
        "id": "ktDmd_pkH13b",
        "outputId": "90cdde7d-9e7f-499a-b8e4-babcc86c6b17"
      },
      "source": [
        "# [inicio:fin - 1:salto] <-- Slicing! (Rebanado)\r\n",
        "print(lista_tacos)\r\n",
        "print(lista_tacos[0:len(lista_tacos):2])\r\n",
        "print(lista_tacos[1:3 + 1])"
      ],
      "execution_count": 9,
      "outputs": [
        {
          "output_type": "stream",
          "text": [
            "['chorizo', 'bistek', 'pastor', 'tripas', 'cabeza', 'combinado']\n",
            "['chorizo', 'pastor', 'cabeza']\n",
            "['bistek', 'pastor', 'tripas']\n"
          ],
          "name": "stdout"
        }
      ]
    },
    {
      "cell_type": "code",
      "metadata": {
        "colab": {
          "base_uri": "https://localhost:8080/"
        },
        "id": "1XM45auMfZmv",
        "outputId": "a045649d-13d3-4278-c0ff-57684f0d7d6c"
      },
      "source": [
        "m = [\r\n",
        "    [1, 0, 0],\r\n",
        "    [0, 1, 0],\r\n",
        "    [0, 0, 1]\r\n",
        "]\r\n",
        "\r\n",
        "print(m)\r\n",
        "\r\n",
        "# Spoiler\r\n",
        "import numpy as np\r\n",
        "print(np.array(m))"
      ],
      "execution_count": 1,
      "outputs": [
        {
          "output_type": "stream",
          "text": [
            "[[1, 0, 0], [0, 1, 0], [0, 0, 1]]\n",
            "[[1 0 0]\n",
            " [0 1 0]\n",
            " [0 0 1]]\n"
          ],
          "name": "stdout"
        }
      ]
    },
    {
      "cell_type": "markdown",
      "metadata": {
        "id": "Jes_2GY4khuA"
      },
      "source": [
        "## Condicionales II\r\n",
        "\r\n",
        "Los condicionales los utilizaremos para validar si se cumple una o más condiciones para ejecutar cierto bloque de código, **incluso para validar si algúin dato forma parte de una colección**.\r\n",
        "\r\n",
        "#### Ejemplo:\r\n",
        "\r\n",
        "```python\r\n",
        ">>> 1 in [1, 2, 3, 4, 5]\r\n",
        "```"
      ]
    },
    {
      "cell_type": "code",
      "metadata": {
        "colab": {
          "base_uri": "https://localhost:8080/"
        },
        "id": "j6QCCxDvkqdb",
        "outputId": "c35ab533-d0dd-4f85-d79e-3ca1834bf512"
      },
      "source": [
        "print(lista_tacos)\r\n",
        "\"chorizo\" in lista_tacos"
      ],
      "execution_count": 4,
      "outputs": [
        {
          "output_type": "stream",
          "text": [
            "['chorizo', 'bistek', 'pastor', 'tripas', 'cabeza', 'lengua']\n"
          ],
          "name": "stdout"
        },
        {
          "output_type": "execute_result",
          "data": {
            "text/plain": [
              "True"
            ]
          },
          "metadata": {
            "tags": []
          },
          "execution_count": 4
        }
      ]
    },
    {
      "cell_type": "code",
      "metadata": {
        "colab": {
          "base_uri": "https://localhost:8080/"
        },
        "id": "Ez5YUKBdlB6c",
        "outputId": "fc8e1ef7-fff7-4b31-b8bd-1fbec25b9753"
      },
      "source": [
        "tipo_taco = \"pastor\"\r\n",
        "if tipo_taco in lista_tacos:\r\n",
        "  print(\"Si hay tacos\")\r\n",
        "else:\r\n",
        "  print(\"No hay tacos\")"
      ],
      "execution_count": 6,
      "outputs": [
        {
          "output_type": "stream",
          "text": [
            "Si hay tacos\n"
          ],
          "name": "stdout"
        }
      ]
    },
    {
      "cell_type": "markdown",
      "metadata": {
        "id": "zVnKV5TQl8US"
      },
      "source": [
        "## Ciclo `for`\r\n",
        "\r\n",
        "Python tiene un ciclo basado en colecciones o en iteradores. Este tipo de ciclo itera sobre una colección de objetos, en lugar de especificar valores o condiciones numéricos, este ciclo se llama ciclo for.\r\n",
        "\r\n",
        "#### Sintaxis:\r\n",
        "\r\n",
        "```python\r\n",
        "for element in collection:\r\n",
        "    # Block of code that iterates over the collection\r\n",
        "```\r\n",
        "\r\n",
        "Ejemplo en lenguaje C:\r\n",
        "\r\n",
        "```c\r\n",
        "for (int i=0; i < 100; i++) {\r\n",
        "    // Ciclo\r\n",
        "}\r\n",
        "```"
      ]
    },
    {
      "cell_type": "code",
      "metadata": {
        "colab": {
          "base_uri": "https://localhost:8080/"
        },
        "id": "g6YZ0XeymQTF",
        "outputId": "73199021-899d-4866-fc46-78ad5309d640"
      },
      "source": [
        "print(lista_tacos)\r\n",
        "\r\n",
        "for taco in lista_tacos:\r\n",
        "  guiso = taco.upper()\r\n",
        "  print(guiso) "
      ],
      "execution_count": 8,
      "outputs": [
        {
          "output_type": "stream",
          "text": [
            "['chorizo', 'bistek', 'pastor', 'tripas', 'cabeza', 'lengua']\n",
            "CHORIZO\n",
            "BISTEK\n",
            "PASTOR\n",
            "TRIPAS\n",
            "CABEZA\n",
            "LENGUA\n"
          ],
          "name": "stdout"
        }
      ]
    },
    {
      "cell_type": "code",
      "metadata": {
        "colab": {
          "base_uri": "https://localhost:8080/"
        },
        "id": "6mSqzRjgAuo0",
        "outputId": "bd7a3b7b-7e44-47b7-abe6-08b60a3eed93"
      },
      "source": [
        "list(range(1, 11))\r\n",
        "\r\n",
        "for i in range(len(lista_tacos)):\r\n",
        "  print(lista_tacos[i])"
      ],
      "execution_count": 11,
      "outputs": [
        {
          "output_type": "stream",
          "text": [
            "chorizo\n",
            "bistek\n",
            "pastor\n",
            "tripas\n",
            "cabeza\n",
            "lengua\n"
          ],
          "name": "stdout"
        }
      ]
    },
    {
      "cell_type": "code",
      "metadata": {
        "colab": {
          "base_uri": "https://localhost:8080/"
        },
        "id": "4cYtsPXsBLbB",
        "outputId": "3fec6a95-0ea6-4fed-91e3-5badc8f3916d"
      },
      "source": [
        "lenguajes = [\r\n",
        "    \"C\",\r\n",
        "    \"Java\",\r\n",
        "    \"C++\",\r\n",
        "    \"C#\",\r\n",
        "    \"Dart\",\r\n",
        "    \"SQL\",\r\n",
        "]\r\n",
        "\r\n",
        "print(lenguajes)"
      ],
      "execution_count": 13,
      "outputs": [
        {
          "output_type": "stream",
          "text": [
            "['C', 'Java', 'C++', 'C#', 'Dart', 'SQL']\n"
          ],
          "name": "stdout"
        }
      ]
    },
    {
      "cell_type": "code",
      "metadata": {
        "colab": {
          "base_uri": "https://localhost:8080/"
        },
        "id": "W5rGHEfWBdWq",
        "outputId": "a6a5bfbd-72d5-4992-9f08-3dc80db38d91"
      },
      "source": [
        "lenguajes.append(\"Python\") #Añadir elemento a la lista\r\n",
        "print(lenguajes)"
      ],
      "execution_count": 14,
      "outputs": [
        {
          "output_type": "stream",
          "text": [
            "['C', 'Java', 'C++', 'C#', 'Dart', 'SQL', 'Python']\n"
          ],
          "name": "stdout"
        }
      ]
    },
    {
      "cell_type": "code",
      "metadata": {
        "colab": {
          "base_uri": "https://localhost:8080/"
        },
        "id": "-2SpY6XQBrkq",
        "outputId": "44067936-55a0-4e71-bc9e-0974212c936e"
      },
      "source": [
        "for i in range(5):\r\n",
        "    print((i + 1) * \"*\")"
      ],
      "execution_count": 15,
      "outputs": [
        {
          "output_type": "stream",
          "text": [
            "*\n",
            "**\n",
            "***\n",
            "****\n",
            "*****\n"
          ],
          "name": "stdout"
        }
      ]
    },
    {
      "cell_type": "code",
      "metadata": {
        "id": "E28EOtpmC4Oh"
      },
      "source": [
        ""
      ],
      "execution_count": null,
      "outputs": []
    },
    {
      "cell_type": "code",
      "metadata": {
        "id": "uE8vQV2JGD8x",
        "colab": {
          "base_uri": "https://localhost:8080/",
          "height": 508
        },
        "outputId": "6116e2f8-3f3e-4876-acab-3733ffa28c3c"
      },
      "source": [
        "perritoz = [\n",
        "    \"https://i.pinimg.com/originals/70/fa/97/70fa97bac09e524bae4c006a1ead5512.jpg\",\n",
        "    \"https://i.pinimg.com/originals/21/c1/13/21c113e05f1a219989a0b07a03b1577a.jpg\",\n",
        "    \"https://i.pinimg.com/originals/63/96/0c/63960c5db954115a0b5d8868c0c7e8a0.jpg\"\n",
        "]\n",
        "\n",
        "from IPython.display import Image\n",
        "Image(url=perritoz[0])"
      ],
      "execution_count": 20,
      "outputs": [
        {
          "output_type": "execute_result",
          "data": {
            "text/html": [
              "<img src=\"https://i.pinimg.com/originals/70/fa/97/70fa97bac09e524bae4c006a1ead5512.jpg\"/>"
            ],
            "text/plain": [
              "<IPython.core.display.Image object>"
            ]
          },
          "metadata": {
            "tags": []
          },
          "execution_count": 20
        }
      ]
    },
    {
      "cell_type": "markdown",
      "metadata": {
        "id": "N44ITMeiEUWA"
      },
      "source": [
        "## Funciones (pt. I)\r\n",
        "\r\n",
        "La manera en la que empaquetamos procesos que ejecutan un bloque completo de código es a través de funciones, la sintaxis de Python es muy sencilla y eficiente para escribir bloques de código de forma ordenada.\r\n",
        "\r\n",
        "La mayoría de los paquetes en Python están conformados por objetos y funciones.\r\n",
        "\r\n",
        "#### Sintaxis:\r\n",
        "\r\n",
        "```python\r\n",
        "def function_name(arguments):\r\n",
        "    # Block of code\r\n",
        "\t# Final block of code\r\n",
        "\treturn something\r\n",
        "```"
      ]
    },
    {
      "cell_type": "code",
      "metadata": {
        "id": "uFsoWC0eEYdu"
      },
      "source": [
        "def F(masa):\r\n",
        "    # 2da. Ley de Newton\r\n",
        "    # F = ma\r\n",
        "\r\n",
        "    a = 9.81\r\n",
        "    fuerza = masa * a\r\n",
        "    print(fuerza)"
      ],
      "execution_count": 21,
      "outputs": []
    },
    {
      "cell_type": "code",
      "metadata": {
        "colab": {
          "base_uri": "https://localhost:8080/"
        },
        "id": "PfoMtuICEft7",
        "outputId": "b7781125-2c93-4a51-9ae2-8047e8c41d36"
      },
      "source": [
        "F(10)\r\n",
        "F(55)\r\n",
        "F(83)"
      ],
      "execution_count": 22,
      "outputs": [
        {
          "output_type": "stream",
          "text": [
            "98.10000000000001\n",
            "539.5500000000001\n",
            "814.23\n"
          ],
          "name": "stdout"
        }
      ]
    },
    {
      "cell_type": "code",
      "metadata": {
        "id": "QYIfUFayErgg"
      },
      "source": [
        "def segunda_de_Newton(masa, aceleracion):\r\n",
        "    fuerza = masa * aceleracion\r\n",
        "    return fuerza"
      ],
      "execution_count": 23,
      "outputs": []
    },
    {
      "cell_type": "code",
      "metadata": {
        "colab": {
          "base_uri": "https://localhost:8080/"
        },
        "id": "53X_3qtiEs8Z",
        "outputId": "4df5b816-4030-4f9b-d009-386fe947b429"
      },
      "source": [
        "segunda_de_Newton(10, 9.81)"
      ],
      "execution_count": 24,
      "outputs": [
        {
          "output_type": "execute_result",
          "data": {
            "text/plain": [
              "98.10000000000001"
            ]
          },
          "metadata": {
            "tags": []
          },
          "execution_count": 24
        }
      ]
    }
  ]
}