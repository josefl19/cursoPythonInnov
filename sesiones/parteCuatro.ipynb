{
  "nbformat": 4,
  "nbformat_minor": 0,
  "metadata": {
    "colab": {
      "name": "parteCuatro.ipynb",
      "provenance": [],
      "collapsed_sections": [],
      "authorship_tag": "ABX9TyOOrNF+LMAVgAC07fq44GvV",
      "include_colab_link": true
    },
    "kernelspec": {
      "name": "python3",
      "display_name": "Python 3"
    }
  },
  "cells": [
    {
      "cell_type": "markdown",
      "metadata": {
        "id": "view-in-github",
        "colab_type": "text"
      },
      "source": [
        "<a href=\"https://colab.research.google.com/github/josefl19/cursoPythonInnov/blob/main/sesiones/parteCuatro.ipynb\" target=\"_parent\"><img src=\"https://colab.research.google.com/assets/colab-badge.svg\" alt=\"Open In Colab\"/></a>"
      ]
    },
    {
      "cell_type": "markdown",
      "metadata": {
        "id": "6bWHLvuBV6ad"
      },
      "source": [
        "# Curso de Python (parte 4)"
      ]
    },
    {
      "cell_type": "markdown",
      "metadata": {
        "id": "tPnRHB-7V_2a"
      },
      "source": [
        "Instalación del paquete de Microsoft para consumir los servicios cognitivos de visión."
      ]
    },
    {
      "cell_type": "code",
      "metadata": {
        "id": "ygRgNL36WF9y"
      },
      "source": [
        "!pip install --upgrade azure-cognitiveservices-vision-computervision -q"
      ],
      "execution_count": 4,
      "outputs": []
    },
    {
      "cell_type": "markdown",
      "metadata": {
        "id": "UW4WbIoYWLoz"
      },
      "source": [
        "Importamos las bibliotecas de funciones que vamos a utilizar."
      ]
    },
    {
      "cell_type": "code",
      "metadata": {
        "id": "dwLRu4daWOEY"
      },
      "source": [
        "# Funcionalidades para conectarnos con nuestro recurso de Cognitive Services\r\n",
        "# y validar nuestro acceso.\r\n",
        "from azure.cognitiveservices.vision.computervision import ComputerVisionClient\r\n",
        "from azure.cognitiveservices.vision.computervision.models import OperationStatusCodes\r\n",
        "from azure.cognitiveservices.vision.computervision.models import VisualFeatureTypes\r\n",
        "from msrest.authentication import CognitiveServicesCredentials\r\n",
        "\r\n",
        "# Paquetería de Python para acceder a recursos de la máquina.\r\n",
        "from array import array\r\n",
        "import os             # Funcionalidades del SO (por lo regular es un Linux)\r\n",
        "from PIL import Image # Este es para trabajar con imágenes.\r\n",
        "import sys            # Funcionalidades del sistema\r\n",
        "import time           # Funciones de tiempo"
      ],
      "execution_count": 5,
      "outputs": []
    },
    {
      "cell_type": "markdown",
      "metadata": {
        "id": "qmmdFg-GWcz9"
      },
      "source": [
        "Lo primero es que necesitamos autenticar nuestro acceso para consumir el recurso."
      ]
    },
    {
      "cell_type": "code",
      "metadata": {
        "id": "yU2GtfuXWeV6"
      },
      "source": [
        "endpoint = \"https://curso-iapython.cognitiveservices.azure.com/\"\r\n",
        "subscription_key = \"e3ea49e2cb19476fbc9d80b0142ea02a\"\r\n",
        "\r\n",
        "computervision_client = ComputerVisionClient(endpoint, CognitiveServicesCredentials(subscription_key))"
      ],
      "execution_count": 7,
      "outputs": []
    },
    {
      "cell_type": "markdown",
      "metadata": {
        "id": "8G2Mkf4FWiBe"
      },
      "source": [
        "Procedemos a consumir el servicio para analizar una imagen."
      ]
    },
    {
      "cell_type": "code",
      "metadata": {
        "id": "1rog6opeWkqA"
      },
      "source": [
        "# Ponemos un URL de la imagen que vamos a analizar\r\n",
        "remote_image_url = \"https://www.eloccidental.com.mx/incoming/7djvfi-talent-land_dia3.jpg/ALTERNATES/LANDSCAPE_400/Talent%20land_d%C3%ADa3.jpg\""
      ],
      "execution_count": 8,
      "outputs": []
    },
    {
      "cell_type": "code",
      "metadata": {
        "colab": {
          "base_uri": "https://localhost:8080/"
        },
        "id": "53GeeqQQWn35",
        "outputId": "545d0b44-1d58-48ba-85ba-ce0625cbd84b"
      },
      "source": [
        "# Descripción de los contenidos de una imagen\r\n",
        "print(\"===== Vamos a describir el contenido de la imagen :D =====\")\r\n",
        "\r\n",
        "\r\n",
        "# Consumimos el servicio de Computer Vision\r\n",
        "description_results = computervision_client.describe_image(remote_image_url)"
      ],
      "execution_count": 9,
      "outputs": [
        {
          "output_type": "stream",
          "text": [
            "===== Vamos a describir el contenido de la imagen :D =====\n"
          ],
          "name": "stdout"
        }
      ]
    },
    {
      "cell_type": "code",
      "metadata": {
        "colab": {
          "base_uri": "https://localhost:8080/"
        },
        "id": "0n2wVj7EWqc-",
        "outputId": "772b1c44-f19d-4d1b-d707-5cc060b339a2"
      },
      "source": [
        "from pprint import pprint\r\n",
        "\r\n",
        "pprint(description_results.as_dict())"
      ],
      "execution_count": 10,
      "outputs": [
        {
          "output_type": "stream",
          "text": [
            "{'captions': [{'confidence': 0.46848228573799133,\n",
            "               'text': 'a group of people in a classroom'}],\n",
            " 'metadata': {'format': 'Jpeg', 'height': 250, 'width': 400},\n",
            " 'request_id': 'e7b4bb07-7d77-489f-a3ff-2f33fb5ab5c2',\n",
            " 'tags': ['person', 'child', 'group', 'crowd']}\n"
          ],
          "name": "stdout"
        }
      ]
    },
    {
      "cell_type": "code",
      "metadata": {
        "colab": {
          "base_uri": "https://localhost:8080/"
        },
        "id": "erKwJUq6WqU5",
        "outputId": "843276d7-27bc-4999-dd64-6f2653a4be1d"
      },
      "source": [
        "# Jala las descripciones de la respuesta\r\n",
        "print(\"Descripción de la imagen: \")\r\n",
        "if (len(description_results.captions) == 0):\r\n",
        "    print(\"No description detected.\")\r\n",
        "else:\r\n",
        "    for caption in description_results.captions:\r\n",
        "        print(\"'{}' with confidence {:.2f}%\".format(caption.text, caption.confidence * 100))"
      ],
      "execution_count": 11,
      "outputs": [
        {
          "output_type": "stream",
          "text": [
            "Descripción de la imagen: \n",
            "'a group of people in a classroom' with confidence 46.85%\n"
          ],
          "name": "stdout"
        }
      ]
    },
    {
      "cell_type": "code",
      "metadata": {
        "colab": {
          "base_uri": "https://localhost:8080/"
        },
        "id": "TWnLE3VbWu9p",
        "outputId": "f0e0cec7-a9c4-481f-f560-e474b29d6b84"
      },
      "source": [
        "print(\"Descripción de la imagen: \")\r\n",
        "if len(description_results.as_dict()['captions']) > 0:\r\n",
        "    print(\"Encontré algo:\")\r\n",
        "    for elemento in description_results.as_dict()['captions']:\r\n",
        "        print(elemento[\"text\"])\r\n",
        "else:\r\n",
        "    print(\"No encontré nada.\")"
      ],
      "execution_count": 12,
      "outputs": [
        {
          "output_type": "stream",
          "text": [
            "Descripción de la imagen: \n",
            "Encontré algo:\n",
            "a group of people in a classroom\n"
          ],
          "name": "stdout"
        }
      ]
    }
  ]
}