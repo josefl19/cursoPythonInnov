{
  "nbformat": 4,
  "nbformat_minor": 0,
  "metadata": {
    "colab": {
      "name": "Untitled0.ipynb",
      "provenance": [],
      "authorship_tag": "ABX9TyNJqfagcXMEtD9+5Jpu6M03",
      "include_colab_link": true
    },
    "kernelspec": {
      "name": "python3",
      "display_name": "Python 3"
    }
  },
  "cells": [
    {
      "cell_type": "markdown",
      "metadata": {
        "id": "view-in-github",
        "colab_type": "text"
      },
      "source": [
        "<a href=\"https://colab.research.google.com/github/josefl19/cursoPythonInnov/blob/main/parteUno.ipynb\" target=\"_parent\"><img src=\"https://colab.research.google.com/assets/colab-badge.svg\" alt=\"Open In Colab\"/></a>"
      ]
    },
    {
      "cell_type": "markdown",
      "metadata": {
        "id": "fHcxW4wHiLPI"
      },
      "source": [
        "# Curso Introductorio de Python de Innovacción 2021\r\n",
        "\r\n",
        "Curso de introducción a la programación con Python para la comunidad de **Innovacción Virtual** impartido por **Rodolfo Ferro**.\r\n",
        "\r\n",
        "##### **Ejemplo Redes:**\r\n",
        "- GitHub: [Github](https://github.com/josefl19), josefl19\r\n",
        "- Twitter: [Twitter](https://twitter.com/jose_fujarte), @jose_fujarte\r\n"
      ]
    },
    {
      "cell_type": "markdown",
      "metadata": {
        "id": "Ih_snw0hkgJB"
      },
      "source": [
        "## I/O - ¡Hola mundo!\r\n",
        "\r\n",
        "`input()` y `print()` son las funciones de entrada y salida (respectivamente) de información en Python. \r\n",
        "\r\n",
        "`input()` tiene como argumento una cadena de texto que da las instrucciones que se deseas desplegar y lo que retorna (la respuesta) siempre es una cadena de texto; mientras que `print()` tiene como argumentos cadenas de texto o variables que se desean desplegar.\r\n",
        "\r\n",
        "#### Ejemplo:\r\n",
        "\r\n",
        "```python\r\n",
        "nombre = input(\"Introduce tu nombre: \")\r\n",
        "print(f\"Mucho gusto, {nombre}\")\r\n",
        "```\r\n",
        "\r\n",
        "Formatted string literals (también llamados f-strings para abreviar) le permiten incluir el valor de las expresiones de Python dentro de una cadena prefijando la cadena con `f` o `F` y escribiendo expresiones como `{expresion}`."
      ]
    },
    {
      "cell_type": "code",
      "metadata": {
        "colab": {
          "base_uri": "https://localhost:8080/"
        },
        "id": "gfm2a6dmkgkh",
        "outputId": "00fc6a7a-8138-4508-a458-22f235a0e88e"
      },
      "source": [
        "print(\"Hola mundo!\")"
      ],
      "execution_count": 1,
      "outputs": [
        {
          "output_type": "stream",
          "text": [
            "Hola mundo!\n"
          ],
          "name": "stdout"
        }
      ]
    },
    {
      "cell_type": "code",
      "metadata": {
        "colab": {
          "base_uri": "https://localhost:8080/"
        },
        "id": "Dq9u9KYhlAlD",
        "outputId": "d47c8053-e4ef-4f0c-9ffc-321e31b79444"
      },
      "source": [
        "nombre=input(\"Dime tu nombre: \")\r\n",
        "print(f\"Bienvenido, {nombre}\")"
      ],
      "execution_count": 3,
      "outputs": [
        {
          "output_type": "stream",
          "text": [
            "Dime tu nombre: José\n",
            "Bienvenido, José\n"
          ],
          "name": "stdout"
        }
      ]
    }
  ]
}